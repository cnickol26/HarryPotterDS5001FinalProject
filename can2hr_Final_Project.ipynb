{
 "cells": [
  {
   "cell_type": "markdown",
   "id": "65949d88-8caa-4c04-a214-4716315e76e3",
   "metadata": {},
   "source": [
    "## Connor Nickol Final Project"
   ]
  },
  {
   "cell_type": "code",
   "execution_count": null,
   "id": "efc548ae-a7fb-4d08-b7e1-e76b31e4ff56",
   "metadata": {},
   "outputs": [],
   "source": []
  }
 ],
 "metadata": {
  "kernelspec": {
   "display_name": "Python 3 (ipykernel)",
   "language": "python",
   "name": "python3"
  },
  "language_info": {
   "codemirror_mode": {
    "name": "ipython",
    "version": 3
   },
   "file_extension": ".py",
   "mimetype": "text/x-python",
   "name": "python",
   "nbconvert_exporter": "python",
   "pygments_lexer": "ipython3",
   "version": "3.9.12"
  }
 },
 "nbformat": 4,
 "nbformat_minor": 5
}
