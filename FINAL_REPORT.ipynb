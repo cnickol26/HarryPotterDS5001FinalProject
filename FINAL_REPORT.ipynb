{
 "cells": [
  {
   "cell_type": "markdown",
   "id": "62a8c467-c9f7-4cb0-b32a-a995751b18bc",
   "metadata": {},
   "source": [
    "# Connor Nickol (can2hr@virginia.edu) DS 5001 Spring 2023"
   ]
  },
  {
   "cell_type": "markdown",
   "id": "fb320756-1284-4aa4-b123-46133a738219",
   "metadata": {},
   "source": [
    "## Introduction"
   ]
  },
  {
   "cell_type": "markdown",
   "id": "a1e757b9-9948-4b74-ae94-c67bdb45730d",
   "metadata": {},
   "source": [
    "This project consisted of a corpus made up of the 7 Harry Potter books. Written by J.K. Rowling in the late 1990s and early 2000s, Harry Potter is the best selling book series in history. The books are all written in the fantasy genre with varying lengths and number of chapters. For this analysis, I looked at the books both individually and together using an OHCO of book, chapter, paragraph, sentence, and token. After an extensive amount of work to create the vocab and corpus tables, I looked at things such as TFIDF, correlations, PCA, LDA and topic modeling, word2vec, sentiment analysis, and semantic search. "
   ]
  },
  {
   "cell_type": "markdown",
   "id": "f0f47f1f-4009-48ab-acac-08c405a9b476",
   "metadata": {},
   "source": [
    "## Source Data"
   ]
  },
  {
   "cell_type": "markdown",
   "id": "1b06e9f8-0cd1-49a7-a735-e6fcf17e2f1b",
   "metadata": {},
   "source": [
    "### 1) Provenance"
   ]
  },
  {
   "cell_type": "markdown",
   "id": "76c2ff3d-f6ea-44f4-9b20-cb462ee17df6",
   "metadata": {},
   "source": [
    "The txt files used for this analysis were taken from this a github page linked below. While downloading and using these files is legally questionable I will not be profiting from them in any way.\n",
    "\n",
    "https://github.com/formcept/whiteboard/blob/master/nbviewer/notebooks/data/harrypotter"
   ]
  },
  {
   "cell_type": "markdown",
   "id": "9ab13d07-1cfc-4586-843d-b7e67e659540",
   "metadata": {},
   "source": [
    "### 2) Location"
   ]
  },
  {
   "cell_type": "markdown",
   "id": "0220a8f3-21a9-4898-9710-c0e7037eef76",
   "metadata": {},
   "source": [
    "Link to my UVA box with the both the Harry Potter txts uploaded and other csv files used during my project.\n",
    "\n",
    "https://virginia.box.com/s/9gpd7p69x0y094jk9gxrwmoa8fpamgof"
   ]
  },
  {
   "cell_type": "markdown",
   "id": "f3e51ccb-d452-4dc6-8c94-df3e9544ce3b",
   "metadata": {},
   "source": [
    "### 3) Description"
   ]
  },
  {
   "cell_type": "markdown",
   "id": "68c0165b-07eb-4a94-923b-44d9ac7a0aa1",
   "metadata": {},
   "source": [
    "Again, the original Harry Potter series consists of 7 books. The books average about 28 chapters, but the later books in the series are much longer than the first few. Each chapter is around 5,000 words. My corpus table consists of over 1.3 million rows, meaning over 1.3 million tokens for the books. I have over 23 thousand unique words present in my vocab table as well. "
   ]
  },
  {
   "cell_type": "markdown",
   "id": "5222a299-433d-4576-9f83-48a5bcbef9c9",
   "metadata": {},
   "source": [
    "### 4) Format"
   ]
  },
  {
   "cell_type": "markdown",
   "id": "599488bb-420b-4cee-b765-6897068f120b",
   "metadata": {},
   "source": [
    "These files are plain text txt files. For the internal structure of these files, each chapter was listed in all caps, followed by the text for the chapter. Also present in the files was the page numbers for the books, along with the book title and author. These had to be cut out from our corpus."
   ]
  },
  {
   "cell_type": "markdown",
   "id": "e21c334a-1716-4f79-8bcb-394b6fa5b13f",
   "metadata": {},
   "source": [
    "## Data Model"
   ]
  },
  {
   "cell_type": "markdown",
   "id": "c6b04b74-047f-4159-8213-5446b1b9ce4b",
   "metadata": {},
   "source": [
    "Each of these listed tables are located on my UVA box, linked in the Location section above. These files were too large to be uploaded to my github.\n",
    "<br>\n",
    "LIB Table:\n",
    "<br>\n",
    "This table was basically a book summary information table with a row for each book. The columns in this table consisted of things such as book number, title, length, number of chapters, and the regex used to parse the tezt. Traditionally you would see author listed here as well but all 7 books had the same author, J.K. Rowling. \n",
    "<br>\n",
    "CORPUS Table:\n",
    "<br>\n",
    "This table is consists of all of the tokens in the book, structured with an index of our OHCO. In this case that was book, chapter, paragraph, sentence, and token number. Columns in this table consisted of the tokens in various formats along with the parts of speeches. \n",
    "<br>\n",
    "VOCAB Table:\n",
    "<br>\n",
    "This table is derived directly from the CORPUS table. Here we group by token and then add information such as number of occurrences, entropy, number of characters, stem, and DFIDF and mean TFIDF. "
   ]
  },
  {
   "cell_type": "markdown",
   "id": "a2e3609b-026e-43a0-bcc1-dff6ebe95fa6",
   "metadata": {},
   "source": [
    "## Exploration"
   ]
  },
  {
   "cell_type": "markdown",
   "id": "ee68d85a-d9df-4d3d-8034-51c4d00fdc9b",
   "metadata": {},
   "source": [
    "I had a lot of fun with this part of the project. I got to do cool things that I did not include in this report, such as semantic search and analogy creation. I chose to include some of the visualizations I felt were more important below. "
   ]
  },
  {
   "cell_type": "markdown",
   "id": "429fa445-456a-4853-810d-806de24113ca",
   "metadata": {},
   "source": [
    "### Hierarchical cluster diagrams"
   ]
  },
  {
   "cell_type": "markdown",
   "id": "6fb30c69-ea2e-44af-8eb7-8b19d8a60329",
   "metadata": {},
   "source": [
    "![](first2dendro.jpg)"
   ]
  },
  {
   "cell_type": "markdown",
   "id": "3b9afda8-7abd-494c-9780-346838d3a8bd",
   "metadata": {},
   "source": [
    "I thought these two dendrograms in particular were very interesting. Using different linkage methods, they both produced the same results. Books 1 and 7 seem to be outliers compared to the rest. I think this makes sense given the context of what happens in these books. Book 1 is the first one and a lot of the book is explaining the world of Harry Potter so a lot of the book is not at Hogwarts or school related. The same thing occurs with book 7 as it is the only book where he doesn't attend Hogwarts for school, just the final battle occurs there. Beyond that, I think it makes sense that 4, 5, and 6 would be linked, because these are all about Voldemort coming back and regaining his powers. 2 and 3 are similar stories Hogwarts stories with a lot of character development for Harry and everyone else while at school."
   ]
  },
  {
   "cell_type": "markdown",
   "id": "99b61904-fb9c-43b7-82db-9ffcb2c8e090",
   "metadata": {},
   "source": [
    "### Dispersion Plots"
   ]
  },
  {
   "cell_type": "code",
   "execution_count": null,
   "id": "f57ecde4-b63b-4fe2-b1f0-8847db788bd9",
   "metadata": {},
   "outputs": [],
   "source": []
  }
 ],
 "metadata": {
  "kernelspec": {
   "display_name": "Python 3 (ipykernel)",
   "language": "python",
   "name": "python3"
  },
  "language_info": {
   "codemirror_mode": {
    "name": "ipython",
    "version": 3
   },
   "file_extension": ".py",
   "mimetype": "text/x-python",
   "name": "python",
   "nbconvert_exporter": "python",
   "pygments_lexer": "ipython3",
   "version": "3.8.5"
  }
 },
 "nbformat": 4,
 "nbformat_minor": 5
}
